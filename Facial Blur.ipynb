{
 "cells": [
  {
   "cell_type": "code",
   "execution_count": 16,
   "id": "662865af",
   "metadata": {},
   "outputs": [],
   "source": [
    "import numpy as np\n",
    "import cv2\n"
   ]
  },
  {
   "cell_type": "code",
   "execution_count": 17,
   "id": "4e193b28",
   "metadata": {},
   "outputs": [],
   "source": [
    "def display_image(window_name,img):\n",
    "    cv2.imshow(window_name,img)\n",
    "    cv2.waitKey(0)\n",
    "    cv2.destroyAllWindows()\n",
    "    "
   ]
  },
  {
   "cell_type": "code",
   "execution_count": 24,
   "id": "b0264f19",
   "metadata": {},
   "outputs": [],
   "source": [
    "original_image=cv2.imread('people.jpg')\n",
    "display_image('original Image',original_image)"
   ]
  },
  {
   "cell_type": "code",
   "execution_count": 19,
   "id": "642592e8",
   "metadata": {},
   "outputs": [],
   "source": [
    "# defining the model\n",
    "face_detection_model=cv2.dnn.readNetFromCaffe('./models/deploy.prototxt.txt','./models/res10_300x300_ssd_iter_140000_fp16.caffemodel')"
   ]
  },
  {
   "cell_type": "code",
   "execution_count": 22,
   "id": "a62c5092",
   "metadata": {},
   "outputs": [],
   "source": [
    "def face_blurring(original_img):\n",
    "    image=original_image.copy()\n",
    "\n",
    "    #face_mask is essentailly a black image with white spapces where the faces are  detected\n",
    "    face_mask=np.zeros(image.shape[:2],dtype='uint8')\n",
    "    # getting blob from image\n",
    "    blob=cv2.dnn.blobFromImage(image,1,(300,300),(104,177,123),swapRB=True)\n",
    "    face_detection_model.setInput(blob)\n",
    "    detections=face_detection_model.forward()\n",
    "    h,w=image.shape[:2]\n",
    "    for i in range(detections.shape[2]):\n",
    "        confidence=detections[0,0,i,2]\n",
    "        if confidence>0.5:\n",
    "            box=detections[0,0,i,3:7]*np.array([w,h,w,h])\n",
    "            box=box.astype(int)\n",
    "            point1=(box[0],box[1])\n",
    "            point2=(box[2],box[3])\n",
    "            cv2.rectangle(face_mask,point1,point2,255,-1)\n",
    "    \n",
    "    inverse_facemask=cv2.bitwise_not(face_mask)\n",
    "    bg_image=cv2.bitwise_and(original_image,original_image,mask=face_mask)\n",
    "    fg_image=cv2.bitwise_and(original_image,original_image,mask=inverse_facemask)\n",
    "    bg_blur=cv2.GaussianBlur(bg_image,(101,101),0)\n",
    "    face_blur=cv2.add(bg_blur,fg_image)\n",
    "    \n",
    "    return face_blur"
   ]
  },
  {
   "cell_type": "code",
   "execution_count": 25,
   "id": "fc0c6580",
   "metadata": {},
   "outputs": [],
   "source": [
    "x=face_blurring(original_image)\n",
    "display_image(\"face blurred\",x)"
   ]
  },
  {
   "cell_type": "code",
   "execution_count": null,
   "id": "711485fa",
   "metadata": {},
   "outputs": [],
   "source": []
  },
  {
   "cell_type": "code",
   "execution_count": null,
   "id": "e504e8eb",
   "metadata": {},
   "outputs": [],
   "source": []
  }
 ],
 "metadata": {
  "kernelspec": {
   "display_name": "Python 3 (ipykernel)",
   "language": "python",
   "name": "python3"
  },
  "language_info": {
   "codemirror_mode": {
    "name": "ipython",
    "version": 3
   },
   "file_extension": ".py",
   "mimetype": "text/x-python",
   "name": "python",
   "nbconvert_exporter": "python",
   "pygments_lexer": "ipython3",
   "version": "3.9.12"
  }
 },
 "nbformat": 4,
 "nbformat_minor": 5
}
